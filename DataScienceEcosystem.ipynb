{
 "cells": [
  {
   "cell_type": "markdown",
   "id": "f26b87e6-db06-4a1f-88ee-01fc3dbc2e97",
   "metadata": {},
   "source": [
    "# Data Science Tools and Ecosystem "
   ]
  },
  {
   "cell_type": "markdown",
   "id": "e97b3af3-2d88-462b-9108-0a47e0e438b2",
   "metadata": {},
   "source": [
    "## In this notebook, Data Science Tools and Ecosystems are summarized"
   ]
  },
  {
   "cell_type": "markdown",
   "id": "2ae0599a-cc17-45b0-b219-c9359b7f47eb",
   "metadata": {},
   "source": [
    "## **Objectives:**\n",
    "- List common Languages used by Data SCientists\n",
    "- List mostly used Libraries used by Data SCientists\n",
    "- List some Tools used by Data SCientists\n",
    "- List few examples of evaluating arithmetic expressions in Python"
   ]
  },
  {
   "cell_type": "markdown",
   "id": "1add5d20-a164-4b29-b024-6842f80b8e50",
   "metadata": {},
   "source": [
    "###     Some of the common languages Data Scientists use are :"
   ]
  },
  {
   "cell_type": "markdown",
   "id": "46f13640-8fe9-4081-9070-a1a7a21ac618",
   "metadata": {},
   "source": [
    "        1. Python\n",
    "        2. R\n",
    "        3. SQL\n",
    "        4. Java"
   ]
  },
  {
   "cell_type": "markdown",
   "id": "7adc135a-db66-4c2b-b497-548838e7f2de",
   "metadata": {},
   "source": [
    "### Some of the Libraries commonly used by Data Scientists include: \n",
    "        1. NumPy\n",
    "        2. Pandas\n",
    "        3. MatPlotLib\n",
    "        4. SciKit-Learn\n",
    "        5. TensorFlow\n",
    "        6. Keras\n",
    "        7. Seaborn"
   ]
  },
  {
   "cell_type": "markdown",
   "id": "deb875ba-e8d3-4cc9-853b-35f3a5e8e2bb",
   "metadata": {},
   "source": [
    "### Some of the Data Science Tools used by Data Scientists are:\n",
    "| Data Science Tools |\n",
    "|---------|\n",
    "| Jupyter Notebooks |\n",
    "| RStudio |\n",
    "| Apache Spark |"
   ]
  },
  {
   "cell_type": "markdown",
   "id": "a1244019-bb3c-400c-a0ff-93327c6629f4",
   "metadata": {},
   "source": [
    "#### Below are a few examples of evaluating arithmetic expressions in Python:"
   ]
  },
  {
   "cell_type": "code",
   "execution_count": 26,
   "id": "c38db8c6-76a9-4184-8888-e41a6efdea24",
   "metadata": {},
   "outputs": [
    {
     "data": {
      "text/plain": [
       "17"
      ]
     },
     "execution_count": 26,
     "metadata": {},
     "output_type": "execute_result"
    }
   ],
   "source": [
    "# This is a simple arithmetic expression to first multiply and then add integers:\n",
    "(3*4)+5"
   ]
  },
  {
   "cell_type": "code",
   "execution_count": 29,
   "id": "aa0684cf-7a5b-4083-8559-e69ad885782c",
   "metadata": {},
   "outputs": [
    {
     "name": "stdout",
     "output_type": "stream",
     "text": [
      "200 minutes is equal to 3.3333333333333335 hours.\n"
     ]
    }
   ],
   "source": [
    "# This will convert 200 minutes to hours by dividing by 60\n",
    "minutes = 200\n",
    "hours = minutes / 60\n",
    "print(f\"{minutes} minutes is equal to {hours} hours.\")\n"
   ]
  },
  {
   "cell_type": "markdown",
   "id": "f1ffadf9-bff3-4317-a820-65134bec05d7",
   "metadata": {},
   "source": [
    "## Author\n",
    "Bhuvanavarsh Shivaprasad Hiremath"
   ]
  },
  {
   "cell_type": "code",
   "execution_count": null,
   "id": "5d035c7e-d635-4cf5-8377-85feda8f87c8",
   "metadata": {},
   "outputs": [],
   "source": []
  }
 ],
 "metadata": {
  "kernelspec": {
   "display_name": "Python 3 (ipykernel)",
   "language": "python",
   "name": "python3"
  },
  "language_info": {
   "codemirror_mode": {
    "name": "ipython",
    "version": 3
   },
   "file_extension": ".py",
   "mimetype": "text/x-python",
   "name": "python",
   "nbconvert_exporter": "python",
   "pygments_lexer": "ipython3",
   "version": "3.12.4"
  }
 },
 "nbformat": 4,
 "nbformat_minor": 5
}
